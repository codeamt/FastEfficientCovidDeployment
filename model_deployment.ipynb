{
  "nbformat": 4,
  "nbformat_minor": 0,
  "metadata": {
    "colab": {
      "name": "model-deployment.ipynb",
      "provenance": [],
      "collapsed_sections": []
    },
    "kernelspec": {
      "name": "python3",
      "display_name": "Python 3"
    }
  },
  "cells": [
    {
      "cell_type": "markdown",
      "metadata": {
        "id": "q9aOq5Lo6Gwe",
        "colab_type": "text"
      },
      "source": [
        "#Udacity MLE Nanodegree Capstone - Deployment\n"
      ]
    },
    {
      "cell_type": "markdown",
      "metadata": {
        "id": "_eIKsyYZt9II",
        "colab_type": "text"
      },
      "source": [
        "###Environment Setup:"
      ]
    },
    {
      "cell_type": "code",
      "metadata": {
        "id": "6KrdLbir6A4N",
        "colab_type": "code",
        "colab": {}
      },
      "source": [
        "!pip install pyngrok\n",
        "!pip3 install virtualenv"
      ],
      "execution_count": null,
      "outputs": []
    },
    {
      "cell_type": "code",
      "metadata": {
        "id": "S2YZ3588uXw4",
        "colab_type": "code",
        "colab": {}
      },
      "source": [
        "import os\n",
        "import zipfile \n",
        "from pyngrok import ngrok\n",
        "import warnings\n",
        "warnings.filterwarnings('ignore')"
      ],
      "execution_count": null,
      "outputs": []
    },
    {
      "cell_type": "markdown",
      "metadata": {
        "id": "PQXUX6457dTH",
        "colab_type": "text"
      },
      "source": [
        "###Download GitHub Repo:"
      ]
    },
    {
      "cell_type": "code",
      "metadata": {
        "id": "HN1Go_o4I1hc",
        "colab_type": "code",
        "colab": {}
      },
      "source": [
        "!git clone https://github.com/codeamt/mle-capstone-deployment.git"
      ],
      "execution_count": null,
      "outputs": []
    },
    {
      "cell_type": "code",
      "metadata": {
        "id": "8dJuO8ehI7WX",
        "colab_type": "code",
        "colab": {}
      },
      "source": [
        "#app_dir = zipfile.ZipFile(\"/content/mle-capstone-deployment-master.zip\")\n",
        "#app_dir.extractall()\n"
      ],
      "execution_count": 1,
      "outputs": []
    },
    {
      "cell_type": "markdown",
      "metadata": {
        "id": "jTaRtg5SwkvR",
        "colab_type": "text"
      },
      "source": [
        "###Activate Virtualenv:"
      ]
    },
    {
      "cell_type": "code",
      "metadata": {
        "id": "5a9DoF33hK2A",
        "colab_type": "code",
        "colab": {}
      },
      "source": [
        "os.chdir(os.path.join(os.path.abspath(os.getcwd()),u'mle-capstone-deployment-master'))\n",
        "!virtualenv .\n",
        "!source /content/mle-capstone-deployment-master/bin/activate \n",
        "!ls"
      ],
      "execution_count": 3,
      "outputs": []
    },
    {
      "cell_type": "code",
      "metadata": {
        "id": "9kZ5uafGAXoE",
        "colab_type": "code",
        "colab": {}
      },
      "source": [
        "os.chdir(os.path.join(os.path.abspath(os.getcwd()),u'src'))\n",
        "!pip3 install -r requirements.txt "
      ],
      "execution_count": null,
      "outputs": []
    },
    {
      "cell_type": "code",
      "metadata": {
        "id": "b4P3phOtmGkM",
        "colab_type": "code",
        "colab": {
          "base_uri": "https://localhost:8080/",
          "height": 33
        },
        "outputId": "39e8a388-e7ad-45b4-d07a-9e2ce24ca2d3"
      },
      "source": [
        "!ls"
      ],
      "execution_count": 10,
      "outputs": [
        {
          "output_type": "stream",
          "text": [
            "app.py\thelpers.py  __init__.py  models  requirements.txt  style.css\n"
          ],
          "name": "stdout"
        }
      ]
    },
    {
      "cell_type": "markdown",
      "metadata": {
        "id": "rZTvxbOlw5tA",
        "colab_type": "text"
      },
      "source": [
        "##Run App in Browser:"
      ]
    },
    {
      "cell_type": "code",
      "metadata": {
        "id": "Xpzm5aQIwD6R",
        "colab_type": "code",
        "colab": {}
      },
      "source": [
        "!ngrok authtoken \"<YOUR NGROK AUTHTOKEN HERE>\" #https://ngrok.com/\n",
        "public_url = ngrok.connect(port='8501')"
      ],
      "execution_count": null,
      "outputs": []
    },
    {
      "cell_type": "code",
      "metadata": {
        "id": "ExLuk20kmATV",
        "colab_type": "code",
        "colab": {}
      },
      "source": [
        "!streamlit run app.py \n",
        "print(f\"The webapp is available for preview through your ngrok tunnel in the browser at: {public_url}\")"
      ],
      "execution_count": null,
      "outputs": []
    }
  ]
}